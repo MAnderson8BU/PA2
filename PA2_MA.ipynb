{
 "cells": [
  {
   "cell_type": "markdown",
   "id": "10c94c13",
   "metadata": {},
   "source": [
    "# Assignment 2\n",
    "# Mason Anderson\n",
    "# Version 1\n",
    "# Fall 2023"
   ]
  },
  {
   "cell_type": "markdown",
   "id": "ea981cbc",
   "metadata": {},
   "source": [
    "## Create a variable for personal information and print a message using that stored information"
   ]
  },
  {
   "cell_type": "code",
   "execution_count": 2,
   "id": "b9479e0a",
   "metadata": {},
   "outputs": [
    {
     "name": "stdout",
     "output_type": "stream",
     "text": [
      "My name is Mason Anderson, I am 21 years old, I am 180 cm tall, and my favorite color is blue.\n"
     ]
    }
   ],
   "source": [
    "name=\"Mason Anderson\"\n",
    "age=\"21\"\n",
    "height=\"180\"\n",
    "color=\"blue\"\n",
    "print(f\"My name is {name}, I am {age} years old, I am {height} cm tall, and my favorite color is {color}.\")"
   ]
  },
  {
   "cell_type": "markdown",
   "id": "38e8c9d9",
   "metadata": {},
   "source": [
    "## Create a variable for Celsius and Fahrenheit and then print out the temperature of each"
   ]
  },
  {
   "cell_type": "code",
   "execution_count": 4,
   "id": "c398bb8c",
   "metadata": {},
   "outputs": [
    {
     "name": "stdout",
     "output_type": "stream",
     "text": [
      "Enter a celsius temperature: 0\n",
      "The Celsius temperature is 0.0°C, the temperature in fahrenheit is 32.0°F.\n"
     ]
    }
   ],
   "source": [
    "celsius_temp=float(input(\"Enter a celsius temperature: \"))\n",
    "fahrenheit_temp=(f\"{9/5*celsius_temp+32}\")\n",
    "print(f\"The Celsius temperature is {celsius_temp}°C, the temperature in fahrenheit is {fahrenheit_temp}°F.\")"
   ]
  },
  {
   "cell_type": "markdown",
   "id": "eee7c05b",
   "metadata": {},
   "source": [
    "## Create two variables and use the different mathmatical functions using them"
   ]
  },
  {
   "cell_type": "code",
   "execution_count": 7,
   "id": "2fae8641",
   "metadata": {},
   "outputs": [
    {
     "name": "stdout",
     "output_type": "stream",
     "text": [
      "The addition: 535\n",
      "The subtaction: 489\n",
      "The multiplication: 11776\n",
      "The division: 22.26086956521739\n"
     ]
    }
   ],
   "source": [
    "num1=int(512)\n",
    "num2=int(23)\n",
    "print(f\"The addition: {num1+num2}\")\n",
    "print(f\"The subtaction: {num1-num2}\")\n",
    "print(f\"The multiplication: {num1*num2}\")\n",
    "print(f\"The division: {num1/num2}\")"
   ]
  },
  {
   "cell_type": "markdown",
   "id": "34ffae89",
   "metadata": {},
   "source": [
    "## Manipulate a quote by printing it in upper case, lowercase, calculate the length, strip of spaces in front or behind, and split each word into a list."
   ]
  },
  {
   "cell_type": "code",
   "execution_count": 20,
   "id": "6a88a1a0",
   "metadata": {},
   "outputs": [
    {
     "name": "stdout",
     "output_type": "stream",
     "text": [
      "The only thing we have to fear is fear itself.\n"
     ]
    }
   ],
   "source": [
    "quote=\"The only thing we have to fear is fear itself.\"\n",
    "print(quote)"
   ]
  },
  {
   "cell_type": "code",
   "execution_count": 16,
   "id": "c87cde36",
   "metadata": {},
   "outputs": [
    {
     "name": "stdout",
     "output_type": "stream",
     "text": [
      "THE ONLY THING WE HAVE TO FEAR IS FEAR ITSELF.\n",
      "the only thing we have to fear is fear itself.\n"
     ]
    }
   ],
   "source": [
    "print(quote.upper())\n",
    "print(quote.lower())"
   ]
  },
  {
   "cell_type": "code",
   "execution_count": 15,
   "id": "260b334e",
   "metadata": {},
   "outputs": [
    {
     "data": {
      "text/plain": [
       "46"
      ]
     },
     "execution_count": 15,
     "metadata": {},
     "output_type": "execute_result"
    }
   ],
   "source": [
    "len(quote)"
   ]
  },
  {
   "cell_type": "code",
   "execution_count": 17,
   "id": "17350f79",
   "metadata": {},
   "outputs": [
    {
     "data": {
      "text/plain": [
       "'The only thing we have to fear is fear itself.'"
      ]
     },
     "execution_count": 17,
     "metadata": {},
     "output_type": "execute_result"
    }
   ],
   "source": [
    "quote.strip()"
   ]
  },
  {
   "cell_type": "code",
   "execution_count": 18,
   "id": "a2fdf8c8",
   "metadata": {},
   "outputs": [
    {
     "data": {
      "text/plain": [
       "['The', 'only', 'thing', 'we', 'have', 'to', 'fear', 'is', 'fear', 'itself.']"
      ]
     },
     "execution_count": 18,
     "metadata": {},
     "output_type": "execute_result"
    }
   ],
   "source": [
    "quote.split(sep=\" \")"
   ]
  },
  {
   "cell_type": "markdown",
   "id": "9ad12193",
   "metadata": {},
   "source": [
    "## Use the input function to enter two integers and different mathmatical functions with them"
   ]
  },
  {
   "cell_type": "code",
   "execution_count": 25,
   "id": "b6a032f5",
   "metadata": {},
   "outputs": [
    {
     "name": "stdout",
     "output_type": "stream",
     "text": [
      "Enter an integer: 25\n",
      "Enter another integer: 12\n",
      "The sum of the two integers is 37\n",
      "The diffrence of the two integers is 13\n",
      "The multiplication of the two integers is 300\n",
      "The quotient of the two integers is 2\n"
     ]
    }
   ],
   "source": [
    "number1=int(input(\"Enter an integer: \"))\n",
    "number2=int(input(\"Enter another integer: \"))\n",
    "print(f\"The sum of the two integers is {number1+number2}\")\n",
    "print(f\"The diffrence of the two integers is {number1-number2}\")\n",
    "print(f\"The multiplication of the two integers is {number1*number2}\")\n",
    "print(f\"The quotient of the two integers is {number1//number2}\")\n",
    "\n"
   ]
  },
  {
   "cell_type": "code",
   "execution_count": null,
   "id": "9a7c1e8d",
   "metadata": {},
   "outputs": [],
   "source": []
  }
 ],
 "metadata": {
  "kernelspec": {
   "display_name": "Python 3 (ipykernel)",
   "language": "python",
   "name": "python3"
  },
  "language_info": {
   "codemirror_mode": {
    "name": "ipython",
    "version": 3
   },
   "file_extension": ".py",
   "mimetype": "text/x-python",
   "name": "python",
   "nbconvert_exporter": "python",
   "pygments_lexer": "ipython3",
   "version": "3.11.4"
  }
 },
 "nbformat": 4,
 "nbformat_minor": 5
}
